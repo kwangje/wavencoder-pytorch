{
 "cells": [
  {
   "cell_type": "markdown",
   "metadata": {
    "colab_type": "text",
    "id": "view-in-github"
   },
   "source": [
    "<a href=\"https://colab.research.google.com/github/shangeth/wavencoder/blob/master/examples/wavencoder_demo_2.ipynb\" target=\"_parent\"><img src=\"https://colab.research.google.com/assets/colab-badge.svg\" alt=\"Open In Colab\"/></a>"
   ]
  },
  {
   "cell_type": "markdown",
   "metadata": {
    "id": "ULfYyM7dsy9b"
   },
   "source": [
    "# Demo Notebook 2 \n",
    "## Training Speech Commands Classifier with [wavencoder](https://pypi.org/project/wavencoder/) and PyTorch\n",
    "---\n",
    "\n",
    "\n",
    "Author : Shangeth Rajaa\n",
    "\n",
    "![Twitter Follow](https://img.shields.io/twitter/follow/shangethr?style=social)\n",
    "\n",
    "[GitHub](https://github.com/shangeth) [LinkedIn](https://www.linkedin.com/in/shangeth/)"
   ]
  },
  {
   "cell_type": "markdown",
   "metadata": {
    "id": "Z_G88gFks2wf"
   },
   "source": [
    "# Installing wavencoder"
   ]
  },
  {
   "cell_type": "code",
   "execution_count": 30,
   "metadata": {
    "colab": {
     "base_uri": "https://localhost:8080/",
     "height": 544
    },
    "id": "Bwop2fuKszV5",
    "outputId": "55fbb983-2b6b-4b4a-8099-0101cf163994"
   },
   "outputs": [
    {
     "name": "stdout",
     "output_type": "stream",
     "text": [
      "Requirement already satisfied: fairseq in /usr/local/lib/python3.6/dist-packages (0.9.0)\n",
      "Requirement already satisfied: tqdm in /usr/local/lib/python3.6/dist-packages (from fairseq) (4.41.1)\n",
      "Requirement already satisfied: numpy in /usr/local/lib/python3.6/dist-packages (from fairseq) (1.18.5)\n",
      "Requirement already satisfied: torch in /usr/local/lib/python3.6/dist-packages (from fairseq) (1.6.0+cu101)\n",
      "Requirement already satisfied: cffi in /usr/local/lib/python3.6/dist-packages (from fairseq) (1.14.3)\n",
      "Requirement already satisfied: regex in /usr/local/lib/python3.6/dist-packages (from fairseq) (2019.12.20)\n",
      "Requirement already satisfied: cython in /usr/local/lib/python3.6/dist-packages (from fairseq) (0.29.21)\n",
      "Requirement already satisfied: sacrebleu in /usr/local/lib/python3.6/dist-packages (from fairseq) (1.4.14)\n",
      "Requirement already satisfied: future in /usr/local/lib/python3.6/dist-packages (from torch->fairseq) (0.16.0)\n",
      "Requirement already satisfied: pycparser in /usr/local/lib/python3.6/dist-packages (from cffi->fairseq) (2.20)\n",
      "Requirement already satisfied: portalocker in /usr/local/lib/python3.6/dist-packages (from sacrebleu->fairseq) (2.0.0)\n",
      "Collecting wavencoder==0.0.7\n",
      "  Downloading https://files.pythonhosted.org/packages/72/04/eebe52428ee9c680bebac9373d3856de3d4b3f47802d2c92f42453239fe0/wavencoder-0.0.7-py3-none-any.whl\n",
      "Requirement already satisfied: tqdm in /usr/local/lib/python3.6/dist-packages (from wavencoder==0.0.7) (4.41.1)\n",
      "Requirement already satisfied: torch in /usr/local/lib/python3.6/dist-packages (from wavencoder==0.0.7) (1.6.0+cu101)\n",
      "Requirement already satisfied: future in /usr/local/lib/python3.6/dist-packages (from torch->wavencoder==0.0.7) (0.16.0)\n",
      "Requirement already satisfied: numpy in /usr/local/lib/python3.6/dist-packages (from torch->wavencoder==0.0.7) (1.18.5)\n",
      "Installing collected packages: wavencoder\n",
      "  Found existing installation: wavencoder 0.0.6\n",
      "    Uninstalling wavencoder-0.0.6:\n",
      "      Successfully uninstalled wavencoder-0.0.6\n",
      "Successfully installed wavencoder-0.0.7\n"
     ]
    },
    {
     "data": {
      "application/vnd.colab-display-data+json": {
       "pip_warning": {
        "packages": [
         "wavencoder"
        ]
       }
      }
     },
     "metadata": {
      "tags": []
     },
     "output_type": "display_data"
    },
    {
     "name": "stdout",
     "output_type": "stream",
     "text": [
      "Requirement already satisfied: torchaudio in /usr/local/lib/python3.6/dist-packages (0.6.0)\n",
      "Requirement already satisfied: torch==1.6.0 in /usr/local/lib/python3.6/dist-packages (from torchaudio) (1.6.0+cu101)\n",
      "Requirement already satisfied: future in /usr/local/lib/python3.6/dist-packages (from torch==1.6.0->torchaudio) (0.16.0)\n",
      "Requirement already satisfied: numpy in /usr/local/lib/python3.6/dist-packages (from torch==1.6.0->torchaudio) (1.18.5)\n"
     ]
    }
   ],
   "source": [
    "!pip install wavencoder\n",
    "\n",
    "# install torchaudio for audio dataset\n",
    "!pip install torchaudio"
   ]
  },
  {
   "cell_type": "code",
   "execution_count": 1,
   "metadata": {
    "id": "3249kyi2C9U7"
   },
   "outputs": [],
   "source": [
    "# import wavencoder models and trainer\n",
    "from wavencoder.models import Wav2Vec, LSTM_Attn_Classifier\n",
    "from wavencoder.trainer import train, test_evaluate_classifier, test_predict_classifier\n",
    "\n",
    "# import torch modules and torchaudio for data\n",
    "import torchaudio\n",
    "import torch\n",
    "import torch.nn as nn\n",
    "from torch.utils.data import DataLoader, random_split, Dataset\n",
    "\n",
    "import random\n",
    "import IPython\n",
    "from tqdm import tqdm\n",
    "import numpy as np\n",
    "import matplotlib.pyplot as plt "
   ]
  },
  {
   "cell_type": "markdown",
   "metadata": {
    "id": "FgIZ7aIkAmye"
   },
   "source": [
    "# Download Speech Commands Dataset with TorchAudio"
   ]
  },
  {
   "cell_type": "code",
   "execution_count": 2,
   "metadata": {
    "id": "tgq5MAnBAk3A"
   },
   "outputs": [],
   "source": [
    "# download dataset with torchaudio.datasets\n",
    "dataset = torchaudio.datasets.SPEECHCOMMANDS('./', download=True, url= 'speech_commands_v0.02')"
   ]
  },
  {
   "cell_type": "code",
   "execution_count": 3,
   "metadata": {
    "colab": {
     "base_uri": "https://localhost:8080/",
     "height": 51
    },
    "id": "Rs12zn__BGSj",
    "outputId": "e347ecf0-ed58-466f-e912-dac15bb6cce1"
   },
   "outputs": [
    {
     "data": {
      "text/plain": [
       "(tensor([[3.0518e-05, 0.0000e+00, 1.5259e-04,  ..., 3.3569e-04, 3.0518e-04,\n",
       "          2.7466e-04]]), 16000, 'zero', 'ffd2ba2f', 3)"
      ]
     },
     "execution_count": 3,
     "metadata": {
      "tags": []
     },
     "output_type": "execute_result"
    }
   ],
   "source": [
    "idx = random.randint(0,len(dataset))\n",
    "dataset[idx]"
   ]
  },
  {
   "cell_type": "code",
   "execution_count": 4,
   "metadata": {
    "colab": {
     "base_uri": "https://localhost:8080/",
     "height": 339
    },
    "id": "qM0jv0G2Ca-H",
    "outputId": "b30bf5a9-a2a1-43ab-bbef-0401f5adef39"
   },
   "outputs": [
    {
     "data": {
      "image/png": "[encoded data removed]",
      "text/plain": [
       "<Figure size 432x288 with 1 Axes>"
      ]
     },
     "metadata": {
      "needs_background": "light",
      "tags": []
     },
     "output_type": "display_data"
    },
    {
     "data": {
      "text/html": [
       "\n",
       "                <audio controls=\"controls\" >\n",
       "                    <source src=\"data:audio/wav;base64,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\" type=\"audio/wav\" />\n",
       "                    Your browser does not support the audio element.\n",
       "                </audio>\n",
       "              "
      ],
      "text/plain": [
       "<IPython.lib.display.Audio object>"
      ]
     },
     "execution_count": 4,
     "metadata": {
      "tags": []
     },
     "output_type": "execute_result"
    }
   ],
   "source": [
    "sample_audio = dataset[idx][0].numpy().reshape(-1)\n",
    "sample_rate = dataset[idx][1]\n",
    "sample_label = dataset[idx][2]\n",
    "\n",
    "plt.title(f\"Audio of Label = {sample_label}\")\n",
    "plt.plot(sample_audio)\n",
    "plt.show()\n",
    "\n",
    "IPython.display.Audio(data=sample_audio, rate=16000)"
   ]
  },
  {
   "cell_type": "code",
   "execution_count": 5,
   "metadata": {
    "colab": {
     "base_uri": "https://localhost:8080/",
     "height": 629
    },
    "id": "je8p9a-w4DCI",
    "outputId": "96aa6452-1193-4b23-d852-6562f61d09b3"
   },
   "outputs": [
    {
     "name": "stderr",
     "output_type": "stream",
     "text": [
      "100%|██████████| 105829/105829 [00:13<00:00, 7741.61it/s]\n"
     ]
    },
    {
     "data": {
      "text/plain": [
       "{'backward': 4,\n",
       " 'bed': 27,\n",
       " 'bird': 34,\n",
       " 'cat': 12,\n",
       " 'dog': 19,\n",
       " 'down': 6,\n",
       " 'eight': 25,\n",
       " 'five': 31,\n",
       " 'follow': 7,\n",
       " 'forward': 9,\n",
       " 'four': 15,\n",
       " 'go': 10,\n",
       " 'happy': 20,\n",
       " 'house': 13,\n",
       " 'learn': 18,\n",
       " 'left': 0,\n",
       " 'marvin': 23,\n",
       " 'nine': 33,\n",
       " 'no': 22,\n",
       " 'off': 3,\n",
       " 'on': 24,\n",
       " 'one': 8,\n",
       " 'right': 14,\n",
       " 'seven': 29,\n",
       " 'sheila': 5,\n",
       " 'six': 11,\n",
       " 'stop': 28,\n",
       " 'three': 26,\n",
       " 'tree': 1,\n",
       " 'two': 17,\n",
       " 'up': 21,\n",
       " 'visual': 16,\n",
       " 'wow': 30,\n",
       " 'yes': 32,\n",
       " 'zero': 2}"
      ]
     },
     "execution_count": 5,
     "metadata": {
      "tags": []
     },
     "output_type": "execute_result"
    }
   ],
   "source": [
    "# get a dictionary of label-index\n",
    "\n",
    "labels = []\n",
    "for i in tqdm(range(len(dataset))):\n",
    "    labels.append(dataset[i][2])\n",
    "    labels = list(set(labels))\n",
    "labels_dict = {k: v for v, k in enumerate(labels)}\n",
    "labels_count_list = {k: 0 for  k in labels}\n",
    "labels_dict"
   ]
  },
  {
   "cell_type": "code",
   "execution_count": 6,
   "metadata": {
    "colab": {
     "base_uri": "https://localhost:8080/",
     "height": 34
    },
    "id": "VdYoHf3cRhWP",
    "outputId": "059ac7f8-4444-4a98-ab97-348075cf4dba"
   },
   "outputs": [
    {
     "data": {
      "text/plain": [
       "35"
      ]
     },
     "execution_count": 6,
     "metadata": {
      "tags": []
     },
     "output_type": "execute_result"
    }
   ],
   "source": [
    "class_num = len(labels)\n",
    "class_num"
   ]
  },
  {
   "cell_type": "code",
   "execution_count": 7,
   "metadata": {
    "colab": {
     "base_uri": "https://localhost:8080/",
     "height": 624
    },
    "id": "TXe_BM-X5PUB",
    "outputId": "f6956d77-1241-44c2-d4f6-6e3fe07cf996"
   },
   "outputs": [
    {
     "name": "stderr",
     "output_type": "stream",
     "text": [
      "100%|██████████| 105829/105829 [00:12<00:00, 8282.60it/s]\n"
     ]
    },
    {
     "data": {
      "image/png": "[encoded data removed]",
      "text/plain": [
       "<Figure size 2160x720 with 1 Axes>"
      ]
     },
     "metadata": {
      "needs_background": "light",
      "tags": []
     },
     "output_type": "display_data"
    }
   ],
   "source": [
    "# visualize the count of no of wav file for each class\n",
    "\n",
    "for i in tqdm(range(len(dataset))):\n",
    "    label = dataset[i][2]\n",
    "    labels_count_list[label] += 1\n",
    "\n",
    "plt.figure(figsize=(30,10))\n",
    "plt.title('Distribution of data')\n",
    "plt.bar(labels_count_list.keys(), labels_count_list.values())\n",
    "plt.show()"
   ]
  },
  {
   "cell_type": "markdown",
   "metadata": {
    "id": "RCSKujgxHo-8"
   },
   "source": [
    "# PyTorch Custom Dataset"
   ]
  },
  {
   "cell_type": "code",
   "execution_count": 8,
   "metadata": {
    "id": "TyAdUPWmEgKe"
   },
   "outputs": [],
   "source": [
    "class SpeechDataset(Dataset):\n",
    "    def __init__(self, dataset, label_dict, transforms=None):\n",
    "        self.dataset = dataset\n",
    "        self.label_dict = label_dict\n",
    "        self.transforms = transforms\n",
    "            \n",
    "    def __len__(self):\n",
    "        return len(self.dataset)    \n",
    "    \n",
    "    def pad_crop_wave(self, waveform, l):\n",
    "        l_wave = waveform.shape[1]\n",
    "        if l_wave > l:\n",
    "            i=0\n",
    "            waveform = waveform[:, i:i+l]\n",
    "        elif l_wave < l:\n",
    "            delta = l-l_wave\n",
    "            if delta > l_wave:\n",
    "                waveform = nn.ConstantPad1d((0, delta), 0)(waveform)\n",
    "            else:\n",
    "                waveform_new = torch.randn(waveform.shape[0], l)\n",
    "                waveform_new[:, :l_wave] = waveform\n",
    "                i=0\n",
    "                waveform_new[:, l_wave:] = waveform[:, i:i+delta]\n",
    "                waveform = waveform_new\n",
    "        else:\n",
    "            waveform = waveform\n",
    "        return waveform\n",
    "\n",
    "    def __getitem__(self,idx):\n",
    "        waveform = self.dataset[idx][0]\n",
    "        waveform = self.pad_crop_wave(waveform, l=16000)\n",
    "        if self.transforms:\n",
    "            waveform = self.transforms(waveform)\n",
    "        label = self.dataset[idx][2]\n",
    "        label_idx = self.label_dict[label]\n",
    "        return waveform.squeeze(0), label_idx"
   ]
  },
  {
   "cell_type": "code",
   "execution_count": 9,
   "metadata": {
    "colab": {
     "base_uri": "https://localhost:8080/",
     "height": 34
    },
    "id": "wyMEpWeBI00A",
    "outputId": "025fe5d4-74e6-4056-e50c-34c5f76762ff"
   },
   "outputs": [
    {
     "data": {
      "text/plain": [
       "torch.Size([16000])"
      ]
     },
     "execution_count": 9,
     "metadata": {
      "tags": []
     },
     "output_type": "execute_result"
    }
   ],
   "source": [
    "audio_dataset = SpeechDataset(dataset, labels_dict)\n",
    "audio_dataset[0][0].shape"
   ]
  },
  {
   "cell_type": "code",
   "execution_count": 10,
   "metadata": {
    "colab": {
     "base_uri": "https://localhost:8080/",
     "height": 34
    },
    "id": "94_3OzxqI_bn",
    "outputId": "289c1507-93d8-4c87-8d80-9601332efa49"
   },
   "outputs": [
    {
     "data": {
      "text/plain": [
       "(84663, 21166)"
      ]
     },
     "execution_count": 10,
     "metadata": {
      "tags": []
     },
     "output_type": "execute_result"
    }
   ],
   "source": [
    "train_len = int(len(audio_dataset) * 0.8)\n",
    "val_len = len(audio_dataset) - train_len\n",
    "\n",
    "train_ds, val_ds = random_split(audio_dataset, [train_len, val_len])\n",
    "len(train_ds), len(val_ds)"
   ]
  },
  {
   "cell_type": "markdown",
   "metadata": {
    "id": "dTtdTmY68VgN"
   },
   "source": [
    "## Dataloader"
   ]
  },
  {
   "cell_type": "code",
   "execution_count": 11,
   "metadata": {
    "id": "JsaHSuLo7AeI"
   },
   "outputs": [],
   "source": [
    "trainloader = torch.utils.data.DataLoader(train_ds, batch_size=512, shuffle=True)\n",
    "valloader = torch.utils.data.DataLoader(val_ds, batch_size=256, shuffle=False)"
   ]
  },
  {
   "cell_type": "code",
   "execution_count": 12,
   "metadata": {
    "colab": {
     "base_uri": "https://localhost:8080/",
     "height": 34
    },
    "id": "UXAmG1ex8i2C",
    "outputId": "711536d1-3201-4f92-fcd4-9f5633a686f3"
   },
   "outputs": [
    {
     "data": {
      "text/plain": [
       "(torch.Size([256, 16000]), torch.Size([256]))"
      ]
     },
     "execution_count": 12,
     "metadata": {
      "tags": []
     },
     "output_type": "execute_result"
    }
   ],
   "source": [
    "batch = next(iter(valloader))\n",
    "x, y = batch\n",
    "\n",
    "x.shape, y.shape"
   ]
  },
  {
   "cell_type": "markdown",
   "metadata": {
    "id": "2MrzuMzUGHWh"
   },
   "source": [
    "# Wavencoder"
   ]
  },
  {
   "cell_type": "code",
   "execution_count": 13,
   "metadata": {
    "id": "hN2MIzqxgLZq"
   },
   "outputs": [],
   "source": [
    "def count_parameters(model):\n",
    "    return sum(p.numel() for p in model.parameters() if p.requires_grad)"
   ]
  },
  {
   "cell_type": "code",
   "execution_count": 14,
   "metadata": {
    "colab": {
     "base_uri": "https://localhost:8080/",
     "height": 935
    },
    "id": "pieMLv3BBobU",
    "outputId": "7e2f080b-85da-491f-c949-6390a923aaa8"
   },
   "outputs": [
    {
     "name": "stdout",
     "output_type": "stream",
     "text": [
      "Sequential(\n",
      "  (0): Wav2Vec(\n",
      "    (feature_extractor): ConvFeatureExtractionModel(\n",
      "      (conv_layers): ModuleList(\n",
      "        (0): Sequential(\n",
      "          (0): Conv1d(1, 512, kernel_size=(10,), stride=(5,), bias=False)\n",
      "          (1): Dropout(p=0.0, inplace=False)\n",
      "          (2): Fp32GroupNorm(1, 512, eps=1e-05, affine=True)\n",
      "          (3): ReLU()\n",
      "        )\n",
      "        (1): Sequential(\n",
      "          (0): Conv1d(512, 512, kernel_size=(8,), stride=(4,), bias=False)\n",
      "          (1): Dropout(p=0.0, inplace=False)\n",
      "          (2): Fp32GroupNorm(1, 512, eps=1e-05, affine=True)\n",
      "          (3): ReLU()\n",
      "        )\n",
      "        (2): Sequential(\n",
      "          (0): Conv1d(512, 512, kernel_size=(4,), stride=(2,), bias=False)\n",
      "          (1): Dropout(p=0.0, inplace=False)\n",
      "          (2): Fp32GroupNorm(1, 512, eps=1e-05, affine=True)\n",
      "          (3): ReLU()\n",
      "        )\n",
      "        (3): Sequential(\n",
      "          (0): Conv1d(512, 512, kernel_size=(4,), stride=(2,), bias=False)\n",
      "          (1): Dropout(p=0.0, inplace=False)\n",
      "          (2): Fp32GroupNorm(1, 512, eps=1e-05, affine=True)\n",
      "          (3): ReLU()\n",
      "        )\n",
      "        (4): Sequential(\n",
      "          (0): Conv1d(512, 512, kernel_size=(4,), stride=(2,), bias=False)\n",
      "          (1): Dropout(p=0.0, inplace=False)\n",
      "          (2): Fp32GroupNorm(1, 512, eps=1e-05, affine=True)\n",
      "          (3): ReLU()\n",
      "        )\n",
      "        (5): Sequential(\n",
      "          (0): Conv1d(512, 512, kernel_size=(1,), stride=(1,), bias=False)\n",
      "          (1): Dropout(p=0.0, inplace=False)\n",
      "          (2): Fp32GroupNorm(1, 512, eps=1e-05, affine=True)\n",
      "          (3): ReLU()\n",
      "        )\n",
      "        (6): Sequential(\n",
      "          (0): Conv1d(512, 512, kernel_size=(1,), stride=(1,), bias=False)\n",
      "          (1): Dropout(p=0.0, inplace=False)\n",
      "          (2): Fp32GroupNorm(1, 512, eps=1e-05, affine=True)\n",
      "          (3): ReLU()\n",
      "        )\n",
      "      )\n",
      "    )\n",
      "  )\n",
      "  (1): LSTM_Attn_Classifier(\n",
      "    (lstm): LSTM(512, 128, batch_first=True)\n",
      "    (classifier): Linear(in_features=128, out_features=35, bias=True)\n",
      "  )\n",
      ")\n"
     ]
    }
   ],
   "source": [
    "model = nn.Sequential(\n",
    "    Wav2Vec(pretrained=True),\n",
    "    LSTM_Attn_Classifier(512, 128, class_num)\n",
    ")\n",
    "print(model)"
   ]
  },
  {
   "cell_type": "code",
   "execution_count": 15,
   "metadata": {
    "colab": {
     "base_uri": "https://localhost:8080/",
     "height": 85
    },
    "id": "7wUXaTbZear9",
    "outputId": "d7a6fb53-1921-4df0-aa85-7602a4f37b84"
   },
   "outputs": [
    {
     "name": "stdout",
     "output_type": "stream",
     "text": [
      "\n",
      "# Model Parameters =  6112675\n",
      "# Model Parameters after freezing =  596387\n",
      "torch.Size([1, 35])\n"
     ]
    }
   ],
   "source": [
    "print('\\n# Model Parameters = ', count_parameters(model))\n",
    "\n",
    "for param in model[0].feature_extractor.parameters():\n",
    "    param.requires_grad = False\n",
    "\n",
    "for param in model[0].feature_extractor.conv_layers[6].parameters():\n",
    "    param.requires_grad = True\n",
    "\n",
    "print('# Model Parameters after freezing = ', count_parameters(model))\n",
    "x = torch.randn(1, 16000) \n",
    "y_hat = model(x) \n",
    "\n",
    "print(y_hat.shape)"
   ]
  },
  {
   "cell_type": "code",
   "execution_count": null,
   "metadata": {
    "colab": {
     "base_uri": "https://localhost:8080/",
     "height": 170
    },
    "id": "Fdg4yGDN8sLG",
    "outputId": "942383f7-5670-46d6-e402-59c271441152"
   },
   "outputs": [
    {
     "name": "stderr",
     "output_type": "stream",
     "text": [
      "Train: 100%|██████████| 166/166 [03:08<00:00,  1.14s/it]\n",
      "Val  : 100%|██████████| 83/83 [00:42<00:00,  1.97it/s]\n",
      "Train:   0%|          | 0/166 [00:00<?, ?it/s]"
     ]
    },
    {
     "name": "stdout",
     "output_type": "stream",
     "text": [
      "Validation loss reduced from inf to 2.666579, saving model at trained_model.pt ...\n",
      "Updating lr to [0.010090000000000009]\n",
      "Epoch : 01\n",
      "Train Loss = 3.0570\tTrain Acc = 0.15896410951181775\n",
      "  Val Loss = 2.6666\t  Val Acc = 0.2379588396690209\n",
      "\n"
     ]
    },
    {
     "name": "stderr",
     "output_type": "stream",
     "text": [
      "Train:  79%|███████▉  | 131/166 [02:29<00:40,  1.14s/it]"
     ]
    }
   ],
   "source": [
    "optimizer = torch.optim.RMSprop(model.parameters(), lr=1e-3)\n",
    "scheduler = torch.optim.lr_scheduler.CyclicLR(optimizer, base_lr=1e-4, max_lr=1e-1, step_size_up=10)\n",
    "model, train_dict = train(model, trainloader, valloader, n_epochs=50, optimizer=optimizer, scheduler=scheduler)"
   ]
  },
  {
   "cell_type": "code",
   "execution_count": null,
   "metadata": {
    "colab": {
     "base_uri": "https://localhost:8080/",
     "height": 606
    },
    "id": "poh0za6_BcVz",
    "outputId": "6a9ff18f-7246-4afe-e5d6-80dd8165545e"
   },
   "outputs": [
    {
     "data": {
      "image/png": "[encoded data removed]",
      "text/plain": [
       "<Figure size 1440x720 with 2 Axes>"
      ]
     },
     "metadata": {
      "needs_background": "light",
      "tags": []
     },
     "output_type": "display_data"
    }
   ],
   "source": [
    "train_losses = train_dict['train_losses']\n",
    "train_accuracies = train_dict['train_accuracies']\n",
    "val_losses = train_dict['val_losses']\n",
    "val_accuracies = train_dict['val_Accuracies']\n",
    "\n",
    "plt.figure(figsize=(20, 10))\n",
    "plt.subplot(1, 2, 1)\n",
    "plt.plot(train_losses, label=\"Train Loss\")\n",
    "plt.plot(val_losses, label=\"Val Loss\")\n",
    "plt.xlabel('Epochs')\n",
    "plt.ylabel('Loss')\n",
    "plt.legend()\n",
    "\n",
    "plt.subplot(1, 2, 2)\n",
    "plt.plot(train_accuracies, label=\"Train Accuracy\")\n",
    "plt.plot(val_accuracies, label=\"Val Accuracy\")\n",
    "plt.xlabel('Epochs')\n",
    "plt.ylabel('Accuracy')\n",
    "\n",
    "plt.legend()\n",
    "plt.show()"
   ]
  },
  {
   "cell_type": "code",
   "execution_count": null,
   "metadata": {
    "colab": {
     "base_uri": "https://localhost:8080/",
     "height": 51
    },
    "id": "i5ku558oBYDi",
    "outputId": "a2f51c50-582f-4d7e-aa6e-94ac7883692e"
   },
   "outputs": [
    {
     "name": "stderr",
     "output_type": "stream",
     "text": [
      "100%|██████████| 83/83 [00:22<00:00,  3.61it/s]\n"
     ]
    },
    {
     "data": {
      "text/plain": [
       "{'test_acc': 0.7369423815953469, 'test_loss': 0.8959246249084013}"
      ]
     },
     "execution_count": 24,
     "metadata": {
      "tags": []
     },
     "output_type": "execute_result"
    }
   ],
   "source": [
    "test_evaluate_classifier(model, valloader)"
   ]
  },
  {
   "cell_type": "code",
   "execution_count": null,
   "metadata": {
    "id": "dVFeCqjDD4Ca"
   },
   "outputs": [],
   "source": []
  }
 ],
 "metadata": {
  "accelerator": "GPU",
  "colab": {
   "authorship_tag": "ABX9TyP8Y22nF96VRttzBgfWgd9W",
   "collapsed_sections": [],
   "include_colab_link": true,
   "name": "wavencoder-demo-2.ipynb",
   "provenance": []
  },
  "kernelspec": {
   "display_name": "Python 3",
   "language": "python",
   "name": "python3"
  },
  "language_info": {
   "codemirror_mode": {
    "name": "ipython",
    "version": 3
   },
   "file_extension": ".py",
   "mimetype": "text/x-python",
   "name": "python",
   "nbconvert_exporter": "python",
   "pygments_lexer": "ipython3",
   "version": "3.8.5"
  }
 },
 "nbformat": 4,
 "nbformat_minor": 4
}
