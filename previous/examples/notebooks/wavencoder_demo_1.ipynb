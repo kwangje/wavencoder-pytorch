{
 "cells": [
  {
   "cell_type": "markdown",
   "metadata": {
    "id": "QQNUTJPqrwce"
   },
   "source": [
    "# Installing wavencoder"
   ]
  },
  {
   "cell_type": "code",
   "execution_count": 1,
   "metadata": {},
   "outputs": [],
   "source": [
    "import torchaudio"
   ]
  },
  {
   "cell_type": "code",
   "execution_count": 2,
   "metadata": {},
   "outputs": [
    {
     "name": "stderr",
     "output_type": "stream",
     "text": [
      "/home/kwangje/anaconda3/envs/tsnet/lib/python3.7/site-packages/torchaudio/backend/utils.py:47: UserWarning: \"torchaudio.USE_SOUNDFILE_LEGACY_INTERFACE\" flag is deprecated and will be removed in 0.9.0. Please remove the use of flag.\n",
      "  '\"torchaudio.USE_SOUNDFILE_LEGACY_INTERFACE\" flag is deprecated and will be removed in 0.9.0. '\n"
     ]
    }
   ],
   "source": [
    "import sys\n",
    "sys.path.append(\"../../\")\n",
    "\n",
    "import torchaudio\n",
    "torchaudio.USE_SOUNDFILE_LEGACY_INTERFACE = False\n",
    "torchaudio.set_audio_backend(\"soundfile\")"
   ]
  },
  {
   "cell_type": "markdown",
   "metadata": {
    "id": "D65K-PXe8F2y"
   },
   "source": [
    "# Wav2Vec pretrained feature extractor"
   ]
  },
  {
   "cell_type": "code",
   "execution_count": 3,
   "metadata": {
    "colab": {
     "base_uri": "https://localhost:8080/",
     "height": 68
    },
    "id": "uFrj8bqNLvaZ",
    "outputId": "f4b4f19c-147e-4f5f-e157-382b1a2e51db"
   },
   "outputs": [
    {
     "name": "stderr",
     "output_type": "stream",
     "text": [
      "/home/kwangje/anaconda3/envs/tsnet/lib/python3.7/site-packages/torch/cuda/__init__.py:52: UserWarning: CUDA initialization: Unexpected error from cudaGetDeviceCount(). Did you run some cuda functions before calling NumCudaDevices() that might have already set an error? Error 804: forward compatibility was attempted on non supported HW (Triggered internally at  /pytorch/c10/cuda/CUDAFunctions.cpp:109.)\n",
      "  return torch._C._cuda_getDeviceCount() > 0\n"
     ]
    }
   ],
   "source": [
    "import torch\n",
    "import wavencoder\n"
   ]
  },
  {
   "cell_type": "code",
   "execution_count": 4,
   "metadata": {},
   "outputs": [
    {
     "data": {
      "text/plain": [
       "torch.Size([1, 512, 98])"
      ]
     },
     "execution_count": 4,
     "metadata": {},
     "output_type": "execute_result"
    }
   ],
   "source": [
    "x = torch.randn(1, 16000) # [1, 16000]\n",
    "encoder = wavencoder.models.Wav2Vec(pretrained=False)\n",
    "z = encoder(x) # [1, 512, 98]\n",
    "z.shape"
   ]
  },
  {
   "cell_type": "markdown",
   "metadata": {
    "id": "KOfm7Fx65MiI"
   },
   "source": [
    "# SincNet pretrained feature extractor"
   ]
  },
  {
   "cell_type": "code",
   "execution_count": 5,
   "metadata": {
    "colab": {
     "base_uri": "https://localhost:8080/",
     "height": 34
    },
    "id": "tN-8OHIJ5DBK",
    "outputId": "4f94b919-32c2-4733-b1fe-e682e09117ed"
   },
   "outputs": [
    {
     "name": "stdout",
     "output_type": "stream",
     "text": [
      "torch.Size([1, 2048])\n"
     ]
    }
   ],
   "source": [
    "from wavencoder.models import SincNet\n",
    "encoder = SincNet(pretrained=False).eval()\n",
    "x = torch.randn(1, 3200) \n",
    "z = encoder(x)\n",
    "print(z.shape)"
   ]
  },
  {
   "cell_type": "code",
   "execution_count": 6,
   "metadata": {},
   "outputs": [
    {
     "data": {
      "text/plain": [
       "tensor([[-1.7592e-05,  4.9438e-05, -6.8345e-06,  ...,  1.7641e-05,\n",
       "          1.1897e-04,  4.3041e-05]], grad_fn=<LeakyReluBackward0>)"
      ]
     },
     "execution_count": 6,
     "metadata": {},
     "output_type": "execute_result"
    }
   ],
   "source": [
    "z"
   ]
  },
  {
   "cell_type": "markdown",
   "metadata": {},
   "source": [
    "# RawNet"
   ]
  },
  {
   "cell_type": "code",
   "execution_count": 11,
   "metadata": {},
   "outputs": [
    {
     "data": {
      "text/plain": [
       "torch.Size([1, 1024])"
      ]
     },
     "execution_count": 11,
     "metadata": {},
     "output_type": "execute_result"
    }
   ],
   "source": [
    "import torch\n",
    "import wavencoder\n",
    "\n",
    "x = torch.randn(1, 59049) # [1, 16000]\n",
    "rawnet_encoder = wavencoder.models.RawNet2Model(pretrained=False, return_code=True, class_dim=100)\n",
    "z = rawnet_encoder(x) # [1, 1024]\n",
    "z.shape"
   ]
  },
  {
   "cell_type": "markdown",
   "metadata": {
    "id": "tQ_VO77V8eWX"
   },
   "source": [
    "# Audio Classifier\n",
    "- wav2vec encoder `[1, 16000] -> [1, 512, 98]`\n",
    "- mean of features along time axis `[1, 512, 98] -> [1, 512]`\n",
    "- ANN Classifier `[1, 512] -> [1, 2]`\n"
   ]
  },
  {
   "cell_type": "code",
   "execution_count": 12,
   "metadata": {
    "colab": {
     "base_uri": "https://localhost:8080/",
     "height": 34
    },
    "id": "coQCRfCyTok-",
    "outputId": "51784263-d54d-4d32-bb41-60423b563c0d"
   },
   "outputs": [
    {
     "name": "stdout",
     "output_type": "stream",
     "text": [
      "torch.Size([1, 2])\n"
     ]
    }
   ],
   "source": [
    "import torch\n",
    "import torch.nn as nn\n",
    "import wavencoder\n",
    "\n",
    "class AudioClassifier(nn.Module):\n",
    "    def __init__(self):\n",
    "        super().__init__()\n",
    "        self.encoder = wavencoder.models.Wav2Vec(pretrained=False)\n",
    "        self.classifier = nn.Linear(512, 2)\n",
    "\n",
    "    def forward(self, x):\n",
    "        z = self.encoder(x)\n",
    "        z = torch.mean(z, dim=2)\n",
    "        out = self.classifier(z)\n",
    "        return out\n",
    "\n",
    "model = AudioClassifier()\n",
    "x = torch.randn(1, 16000)\n",
    "y_hat = model(x)\n",
    "print(y_hat.shape)"
   ]
  },
  {
   "cell_type": "markdown",
   "metadata": {
    "id": "rJbxwo465iqJ"
   },
   "source": [
    "- SincNet encoder `[1, 3200] -> [1, 2048]`\n",
    "- ANN Classifier `[1, 2048] -> [1, 512]`"
   ]
  },
  {
   "cell_type": "code",
   "execution_count": 17,
   "metadata": {
    "colab": {
     "base_uri": "https://localhost:8080/",
     "height": 34
    },
    "id": "PFs_KthP5gRM",
    "outputId": "b1f08bdd-0ce2-4edc-fe60-84d3784984a9"
   },
   "outputs": [
    {
     "name": "stdout",
     "output_type": "stream",
     "text": [
      "torch.Size([2, 2])\n"
     ]
    }
   ],
   "source": [
    "import torch\n",
    "import torch.nn as nn\n",
    "import wavencoder\n",
    "\n",
    "class SincNetAudioClassifier(nn.Module):\n",
    "    def __init__(self):\n",
    "        super().__init__()\n",
    "        self.encoder = SincNet(pretrained=False)\n",
    "        self.classifier = nn.Linear(2048, 2)\n",
    "\n",
    "    def forward(self, x):\n",
    "        z = self.encoder(x)\n",
    "        out = self.classifier(z)\n",
    "        return out\n",
    "\n",
    "model = SincNetAudioClassifier()\n",
    "x = torch.randn(2, 3200)\n",
    "y_hat = model(x)\n",
    "print(y_hat.shape)"
   ]
  },
  {
   "cell_type": "markdown",
   "metadata": {
    "id": "TVtPcmFHcARK"
   },
   "source": [
    "# LSTM Attention Classifier"
   ]
  },
  {
   "cell_type": "code",
   "execution_count": 18,
   "metadata": {
    "colab": {
     "base_uri": "https://localhost:8080/",
     "height": 34
    },
    "id": "FSIGxg0acCBQ",
    "outputId": "95974d0b-8390-4122-eee1-ceee680ad9c0"
   },
   "outputs": [
    {
     "name": "stdout",
     "output_type": "stream",
     "text": [
      "torch.Size([5, 2]) torch.Size([5, 98])\n"
     ]
    }
   ],
   "source": [
    "import torch\n",
    "import torch.nn as nn\n",
    "import wavencoder\n",
    "\n",
    "model = nn.Sequential(\n",
    "        wavencoder.models.Wav2Vec(pretrained=False),\n",
    "        wavencoder.models.LSTM_Attn_Classifier(512, 64, 2, return_attn_weights=True, attn_type='soft')\n",
    ")\n",
    "\n",
    "x = torch.randn(5, 16000)\n",
    "y_hat, attn_weights = model(x)\n",
    "\n",
    "print(y_hat.shape, attn_weights.shape)"
   ]
  },
  {
   "cell_type": "code",
   "execution_count": null,
   "metadata": {},
   "outputs": [],
   "source": []
  }
 ],
 "metadata": {
  "accelerator": "GPU",
  "colab": {
   "authorship_tag": "ABX9TyOR20XAPPb1/LZPXrIMN5gc",
   "collapsed_sections": [],
   "include_colab_link": true,
   "name": "wavencoder-demo-1.ipynb",
   "provenance": []
  },
  "kernelspec": {
   "display_name": "tsnet",
   "language": "python",
   "name": "tsnet"
  },
  "language_info": {
   "codemirror_mode": {
    "name": "ipython",
    "version": 3
   },
   "file_extension": ".py",
   "mimetype": "text/x-python",
   "name": "python",
   "nbconvert_exporter": "python",
   "pygments_lexer": "ipython3",
   "version": "3.7.10"
  }
 },
 "nbformat": 4,
 "nbformat_minor": 4
}
